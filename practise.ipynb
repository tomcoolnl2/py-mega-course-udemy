{
 "cells": [
  {
   "cell_type": "code",
   "execution_count": 3,
   "metadata": {},
   "outputs": [],
   "source": [
    "foo = (1, 2, 3)\n"
   ]
  },
  {
   "cell_type": "code",
   "execution_count": 1,
   "metadata": {},
   "outputs": [
    {
     "name": "stdout",
     "output_type": "stream",
     "text": [
      "-1\n"
     ]
    }
   ],
   "source": [
    "x, y = 3.0, 0.0\n",
    "try:\n",
    "    z = x / y\n",
    "except ArithmeticError:\n",
    "    z = -1\n",
    "else:\n",
    "    z = -2\n",
    "print(z)"
   ]
  },
  {
   "cell_type": "code",
   "execution_count": 3,
   "metadata": {},
   "outputs": [
    {
     "name": "stdout",
     "output_type": "stream",
     "text": [
      "1.0\n"
     ]
    }
   ],
   "source": [
    "print(1 / 1)"
   ]
  },
  {
   "cell_type": "code",
   "execution_count": 6,
   "metadata": {},
   "outputs": [
    {
     "name": "stdout",
     "output_type": "stream",
     "text": [
      "Hello\n",
      "WelcomeWelcomeWelcome\n"
     ]
    }
   ],
   "source": [
    "def func(message, num=1):\n",
    "    print(message * num)\n",
    "\n",
    "func('Hello')\n",
    "func('Welcome', 3)"
   ]
  },
  {
   "cell_type": "code",
   "execution_count": 7,
   "metadata": {},
   "outputs": [
    {
     "name": "stdout",
     "output_type": "stream",
     "text": [
      "counter is 100, number of times is 0\n"
     ]
    }
   ],
   "source": [
    "def increment(c, num):\n",
    "    c.count += 1\n",
    "    num += 1\n",
    " \n",
    " \n",
    "class Counter:\n",
    "    def __init__(self):\n",
    "        self.count = 0\n",
    " \n",
    " \n",
    "counter = Counter()\n",
    "number = 0\n",
    " \n",
    "for i in range(0, 100):\n",
    "    increment(counter, number)\n",
    " \n",
    "print(\n",
    "    \"counter is \"\n",
    "    + str(counter.count)\n",
    "    + \", number of times is \"\n",
    "    + str(number)\n",
    ")"
   ]
  },
  {
   "cell_type": "code",
   "execution_count": 8,
   "metadata": {},
   "outputs": [
    {
     "name": "stdout",
     "output_type": "stream",
     "text": [
      "True\n"
     ]
    }
   ],
   "source": [
    "def f(a,b):\n",
    "    return a(b)\n",
    " \n",
    "print(f(lambda x: x and True, 1 > 0))"
   ]
  },
  {
   "cell_type": "code",
   "execution_count": 9,
   "metadata": {},
   "outputs": [
    {
     "name": "stdout",
     "output_type": "stream",
     "text": [
      "4\n"
     ]
    }
   ],
   "source": [
    "strng = \"John,Doe,42\"\n",
    "strng = \"\".join(strng.split(\",\"))\n",
    "print(strng[-2])"
   ]
  },
  {
   "cell_type": "code",
   "execution_count": 10,
   "metadata": {},
   "outputs": [
    {
     "name": "stdout",
     "output_type": "stream",
     "text": [
      "True False\n"
     ]
    }
   ],
   "source": [
    "class Ceil:\n",
    "    Token = 1\n",
    " \n",
    "    def get_token(self):\n",
    "        return 1\n",
    " \n",
    " \n",
    "class Floor(Ceil):\n",
    "    def get_token(self):\n",
    "        return 2\n",
    " \n",
    "    def set_token(self):\n",
    "        pass\n",
    " \n",
    "holder = Floor()\n",
    "print(hasattr(holder, \"Token\"), hasattr(Ceil, \"set_token\"))"
   ]
  },
  {
   "cell_type": "code",
   "execution_count": 13,
   "metadata": {},
   "outputs": [
    {
     "name": "stdout",
     "output_type": "stream",
     "text": [
      "1\n"
     ]
    }
   ],
   "source": [
    "x = \"\"\"\n",
    "\"\"\"\n",
    "print(len(x))"
   ]
  },
  {
   "cell_type": "code",
   "execution_count": 19,
   "metadata": {},
   "outputs": [
    {
     "name": "stdout",
     "output_type": "stream",
     "text": [
      "False\n"
     ]
    }
   ],
   "source": [
    "# '' in ''\n",
    "# '' not in 'alphabet'\n",
    "print('bc' not in 'abc')\n"
   ]
  },
  {
   "cell_type": "code",
   "execution_count": 21,
   "metadata": {},
   "outputs": [
    {
     "name": "stdout",
     "output_type": "stream",
     "text": [
      "*\n",
      "2\n",
      "*\n",
      "4\n",
      "*\n",
      "8\n",
      "*\n",
      "16\n"
     ]
    }
   ],
   "source": [
    "x = 1\n",
    "while x < 10:\n",
    "    print('*')\n",
    "    x = x << 1\n",
    "    print(x)"
   ]
  },
  {
   "cell_type": "code",
   "execution_count": 22,
   "metadata": {},
   "outputs": [
    {
     "name": "stdout",
     "output_type": "stream",
     "text": [
      "None\n"
     ]
    }
   ],
   "source": [
    "data = {}\n",
    " \n",
    " \n",
    "def func(d, key, value):\n",
    "    d[key] = value\n",
    " \n",
    " \n",
    "print(func(data, '1', 'Peter'))"
   ]
  },
  {
   "cell_type": "code",
   "execution_count": 24,
   "metadata": {},
   "outputs": [
    {
     "name": "stdout",
     "output_type": "stream",
     "text": [
      "4\n"
     ]
    }
   ],
   "source": [
    "data = set([1, 2, 2, 3, 3, 3, 4, 4, 4, 4])\n",
    "print(len(data))"
   ]
  },
  {
   "cell_type": "code",
   "execution_count": 25,
   "metadata": {},
   "outputs": [
    {
     "name": "stdout",
     "output_type": "stream",
     "text": [
      "8.0\n"
     ]
    }
   ],
   "source": [
    "x = 9\n",
    "y = 12\n",
    "result = x // 2 * 2 / 2 + y % 2 ** 3\n",
    "print(result)"
   ]
  },
  {
   "cell_type": "code",
   "execution_count": 26,
   "metadata": {},
   "outputs": [
    {
     "name": "stdout",
     "output_type": "stream",
     "text": [
      "3\n"
     ]
    }
   ],
   "source": [
    "class A:\n",
    " \n",
    "    def __init__(self, v=2):\n",
    "        self.v = v\n",
    " \n",
    "    def set(self, v=1):\n",
    "        self.v += v\n",
    "        return self.v\n",
    " \n",
    "a = A()\n",
    "b = a\n",
    "b.set()\n",
    " \n",
    "print(a.v)\n"
   ]
  },
  {
   "cell_type": "code",
   "execution_count": 28,
   "metadata": {},
   "outputs": [
    {
     "data": {
      "text/plain": [
       "2"
      ]
     },
     "execution_count": 28,
     "metadata": {},
     "output_type": "execute_result"
    }
   ],
   "source": [
    "my_list = [0 for i in range(1, 3)]\n",
    "len(my_list)"
   ]
  },
  {
   "cell_type": "code",
   "execution_count": 30,
   "metadata": {},
   "outputs": [
    {
     "name": "stdout",
     "output_type": "stream",
     "text": [
      "*\n"
     ]
    }
   ],
   "source": [
    "i = 0\n",
    "while i <= 5:\n",
    "    i += 1\n",
    "    if i % 2 == 0:\n",
    "        break\n",
    "    print('*')"
   ]
  },
  {
   "cell_type": "code",
   "execution_count": 32,
   "metadata": {},
   "outputs": [
    {
     "data": {
      "text/plain": [
       "False"
      ]
     },
     "execution_count": 32,
     "metadata": {},
     "output_type": "execute_result"
    }
   ],
   "source": [
    "z = 3\n",
    "y = 7\n",
    "x = y == z and y > z or z > y and z != y\n",
    "x"
   ]
  },
  {
   "cell_type": "code",
   "execution_count": 33,
   "metadata": {},
   "outputs": [
    {
     "name": "stdout",
     "output_type": "stream",
     "text": [
      "1.3\n"
     ]
    }
   ],
   "source": [
    "print(float('1.3'))"
   ]
  },
  {
   "cell_type": "code",
   "execution_count": 35,
   "metadata": {},
   "outputs": [
    {
     "name": "stdout",
     "output_type": "stream",
     "text": [
      "3\n"
     ]
    }
   ],
   "source": [
    "people = {}\n",
    " \n",
    " \n",
    "def add_person(index):\n",
    "    if index in people:\n",
    "        people[index] += 1\n",
    "    else:\n",
    "        people[index] = 1\n",
    " \n",
    " \n",
    "add_person('Peter')\n",
    "add_person('Paul')\n",
    "add_person('peter')\n",
    " \n",
    "print(len(people))"
   ]
  },
  {
   "cell_type": "code",
   "execution_count": 36,
   "metadata": {},
   "outputs": [
    {
     "data": {
      "text/plain": [
       "2"
      ]
     },
     "execution_count": 36,
     "metadata": {},
     "output_type": "execute_result"
    }
   ],
   "source": [
    "len((1,2))"
   ]
  },
  {
   "cell_type": "code",
   "execution_count": 39,
   "metadata": {},
   "outputs": [
    {
     "name": "stdout",
     "output_type": "stream",
     "text": [
      "True\n",
      "True\n",
      "False\n"
     ]
    }
   ],
   "source": [
    "class Control:\n",
    "    my_ID = 1\n",
    " \n",
    "    def say(self):\n",
    "        return self.my_ID\n",
    " \n",
    " \n",
    "class Button(Control):\n",
    "    my_ID = 2\n",
    " \n",
    " \n",
    "class Radio(Button):\n",
    "    def say(self):\n",
    "        return -self.my_ID\n",
    " \n",
    " \n",
    "selection = Radio()\n",
    "element = Control()\n",
    "start = Button()\n",
    "\n",
    "print(selection.my_ID == 2)\n",
    "print(isinstance(start, Button))\n",
    "print(selection is element)"
   ]
  },
  {
   "cell_type": "code",
   "execution_count": 41,
   "metadata": {},
   "outputs": [
    {
     "name": "stdout",
     "output_type": "stream",
     "text": [
      "python"
     ]
    }
   ],
   "source": [
    "s = 'python'\n",
    "for i in range(len(s)):\n",
    "    i = s[i].upper()\n",
    "print(s, end='')\n"
   ]
  },
  {
   "cell_type": "code",
   "execution_count": 42,
   "metadata": {},
   "outputs": [
    {
     "name": "stdout",
     "output_type": "stream",
     "text": [
      "2 3 4 5 6 6 "
     ]
    }
   ],
   "source": [
    "data = [1, 2, 3, 4, 5, 6]\n",
    " \n",
    "for i in range(1, 6):\n",
    "    data[i - 1] = data[i]\n",
    " \n",
    "for i in range(0, 6):\n",
    "    print(data[i], end=' ')\n"
   ]
  },
  {
   "cell_type": "code",
   "execution_count": 43,
   "metadata": {},
   "outputs": [
    {
     "name": "stdout",
     "output_type": "stream",
     "text": [
      "4 8 12 16 "
     ]
    }
   ],
   "source": [
    "data = [\n",
    "    [1, 2, 3, 4],\n",
    "    [5, 6, 7, 8],\n",
    "    [9, 10, 11, 12],\n",
    "    [13, 14, 15, 16]\n",
    "]\n",
    "for i in range(0, 4):\n",
    "    print(data[i].pop(), end=' ')\n"
   ]
  },
  {
   "cell_type": "code",
   "execution_count": 44,
   "metadata": {},
   "outputs": [
    {
     "name": "stdout",
     "output_type": "stream",
     "text": [
      "default spin "
     ]
    }
   ],
   "source": [
    "class Aircraft:\n",
    "    def start(self):\n",
    "        return \"default\"\n",
    " \n",
    "    def take_off(self):\n",
    "        self.start()\n",
    " \n",
    " \n",
    "class FixedWing(Aircraft):\n",
    "    pass\n",
    " \n",
    " \n",
    "class RotorCraft(Aircraft):\n",
    "    def start(self):\n",
    "        return \"spin\"\n",
    " \n",
    " \n",
    "fleet = [FixedWing(), RotorCraft()]\n",
    "for airship in fleet:\n",
    "    print(airship.start(), end=\" \")"
   ]
  },
  {
   "cell_type": "code",
   "execution_count": 52,
   "metadata": {},
   "outputs": [
    {
     "name": "stdout",
     "output_type": "stream",
     "text": [
      "Mo Tu We Th Fr Sa Su\n"
     ]
    }
   ],
   "source": [
    "import calendar\n",
    "print(calendar.weekheader(2))"
   ]
  },
  {
   "cell_type": "code",
   "execution_count": 57,
   "metadata": {},
   "outputs": [
    {
     "data": {
      "text/plain": [
       "True"
      ]
     },
     "execution_count": 57,
     "metadata": {},
     "output_type": "execute_result"
    }
   ],
   "source": [
    "x = 1\n",
    "x = x == x\n",
    "x"
   ]
  },
  {
   "cell_type": "code",
   "execution_count": 58,
   "metadata": {},
   "outputs": [
    {
     "name": "stdout",
     "output_type": "stream",
     "text": [
      "2\n"
     ]
    }
   ],
   "source": [
    "x = '\\\\\\\\'\n",
    "print(len(x))"
   ]
  },
  {
   "cell_type": "code",
   "execution_count": 59,
   "metadata": {},
   "outputs": [
    {
     "name": "stdout",
     "output_type": "stream",
     "text": [
      "bytearray(b'\\x00\\x00\\x00')\n"
     ]
    }
   ],
   "source": [
    "b = bytearray(3)\n",
    "print(b)"
   ]
  },
  {
   "cell_type": "code",
   "execution_count": 61,
   "metadata": {},
   "outputs": [
    {
     "ename": "IndexError",
     "evalue": "list index out of range",
     "output_type": "error",
     "traceback": [
      "\u001b[0;31m---------------------------------------------------------------------------\u001b[0m",
      "\u001b[0;31mIndexError\u001b[0m                                Traceback (most recent call last)",
      "\u001b[1;32m/Users/coolt/dev/py-mega-course/practise.ipynb Cell 31\u001b[0m in \u001b[0;36m<cell line: 2>\u001b[0;34m()\u001b[0m\n\u001b[1;32m      <a href='vscode-notebook-cell:/Users/coolt/dev/py-mega-course/practise.ipynb#ch0000032?line=0'>1</a>\u001b[0m data \u001b[39m=\u001b[39m [[\u001b[39m0\u001b[39m, \u001b[39m1\u001b[39m, \u001b[39m2\u001b[39m, \u001b[39m3\u001b[39m] \u001b[39mfor\u001b[39;00m i \u001b[39min\u001b[39;00m \u001b[39mrange\u001b[39m(\u001b[39m2\u001b[39m)]\n\u001b[0;32m----> <a href='vscode-notebook-cell:/Users/coolt/dev/py-mega-course/practise.ipynb#ch0000032?line=1'>2</a>\u001b[0m \u001b[39mprint\u001b[39m(data[\u001b[39m2\u001b[39;49m][\u001b[39m0\u001b[39m])\n",
      "\u001b[0;31mIndexError\u001b[0m: list index out of range"
     ]
    }
   ],
   "source": [
    "data = [[0, 1, 2, 3] for i in range(2)]\n",
    "print(data[2][0])"
   ]
  },
  {
   "cell_type": "code",
   "execution_count": 63,
   "metadata": {},
   "outputs": [
    {
     "name": "stdout",
     "output_type": "stream",
     "text": [
      "3.5\n",
      "0\n"
     ]
    }
   ],
   "source": [
    "x = 1 + 1 // 2 + 1 / 2 + 2\n",
    "\n",
    "print(x)\n",
    "print(1 // 2 * 3)"
   ]
  },
  {
   "cell_type": "code",
   "execution_count": 64,
   "metadata": {},
   "outputs": [
    {
     "name": "stdout",
     "output_type": "stream",
     "text": [
      "lr"
     ]
    }
   ],
   "source": [
    "vect = [\"alpha\", \"bravo\", \"charlie\"]\n",
    "new_vect = filter(lambda s: s[-1].upper() in [\"A\", \"O\"], vect)\n",
    "for x in new_vect:\n",
    "    print(x[1], end=\"\")\n"
   ]
  },
  {
   "cell_type": "code",
   "execution_count": 65,
   "metadata": {},
   "outputs": [
    {
     "name": "stdout",
     "output_type": "stream",
     "text": [
      "True False\n"
     ]
    }
   ],
   "source": [
    "x = True\n",
    "y = False\n",
    "x = x or y\n",
    "y = x and y\n",
    "x = x or y\n",
    "print(x, y)"
   ]
  },
  {
   "cell_type": "code",
   "execution_count": 66,
   "metadata": {},
   "outputs": [
    {
     "name": "stdout",
     "output_type": "stream",
     "text": [
      "True\n",
      "False\n",
      "True\n",
      "False\n"
     ]
    }
   ],
   "source": [
    "class Collection:\n",
    "    stamps = 2\n",
    " \n",
    "    def __init__(self, stuff):\n",
    "        self.stuff = stuff\n",
    " \n",
    "    def dispose(self):\n",
    "        del self.stuff\n",
    " \n",
    " \n",
    "binder = Collection(1)\n",
    "binder.dispose()\n",
    "\n",
    "print('stamps' in Collection.__dict__)\n",
    "print(len(binder.__dict__) > 0)\n",
    "print(len(binder.__dict__) != len(Collection.__dict__))\n",
    "print('stuff' in binder.__dict__)"
   ]
  },
  {
   "cell_type": "code",
   "execution_count": 74,
   "metadata": {},
   "outputs": [
    {
     "name": "stdout",
     "output_type": "stream",
     "text": [
      "2\n"
     ]
    }
   ],
   "source": [
    "data = 'abbabadaadbbaccabc'\n",
    "print(data.count('ab', 1))"
   ]
  },
  {
   "cell_type": "code",
   "execution_count": 75,
   "metadata": {},
   "outputs": [
    {
     "name": "stdout",
     "output_type": "stream",
     "text": [
      "True\n"
     ]
    }
   ],
   "source": [
    "class A:\n",
    "    def __init__(self, x=2, y=3):\n",
    "        self.x = x\n",
    "        self.y = y\n",
    " \n",
    "    def __str__(self):\n",
    "        return 'A'\n",
    " \n",
    "    def __eq__(self, other):\n",
    "        return self.x * self.y == other.x * other.y\n",
    " \n",
    " \n",
    "a = A(1, 2)\n",
    "b = A(2, 1)\n",
    "print(a == b)"
   ]
  },
  {
   "cell_type": "code",
   "execution_count": 77,
   "metadata": {},
   "outputs": [
    {
     "name": "stdout",
     "output_type": "stream",
     "text": [
      "3\n"
     ]
    }
   ],
   "source": [
    "class Test:\n",
    "    def __init__(self, s):\n",
    "        self.s = s\n",
    " \n",
    "    def print(self):\n",
    "        print(s)\n",
    " \n",
    " \n",
    "x = Test('Hello Python')\n",
    "x.print()"
   ]
  },
  {
   "cell_type": "code",
   "execution_count": 78,
   "metadata": {},
   "outputs": [
    {
     "name": "stdout",
     "output_type": "stream",
     "text": [
      "-2\n",
      "-1\n",
      "-3\n",
      "3\n",
      "-3\n"
     ]
    }
   ],
   "source": [
    "\n",
    "import math\n",
    " \n",
    "x = -1.7\n",
    "print(math.floor(x))\n",
    "print(math.ceil(x))\n",
    "print(math.floor(x) + math.ceil(x))\n",
    "print(abs(math.floor(x) + math.ceil(x)))\n",
    "print(-abs(math.floor(x) + math.ceil(x)))"
   ]
  },
  {
   "cell_type": "code",
   "execution_count": 79,
   "metadata": {},
   "outputs": [
    {
     "name": "stdout",
     "output_type": "stream",
     "text": [
      "1 3 "
     ]
    }
   ],
   "source": [
    "try:\n",
    "    f = open(\"non_existing_file\", \"w\")\n",
    "    print(1, end=\" \")\n",
    "    s = f.readline()\n",
    "    print(2, end=\" \")\n",
    "except IOError as error:\n",
    "    print(3, end=\" \")\n",
    "else:\n",
    "    f.close()\n",
    "    print(4, end=\" \")"
   ]
  }
 ],
 "metadata": {
  "kernelspec": {
   "display_name": "Python 3.8.9 64-bit",
   "language": "python",
   "name": "python3"
  },
  "language_info": {
   "codemirror_mode": {
    "name": "ipython",
    "version": 3
   },
   "file_extension": ".py",
   "mimetype": "text/x-python",
   "name": "python",
   "nbconvert_exporter": "python",
   "pygments_lexer": "ipython3",
   "version": "3.8.9"
  },
  "orig_nbformat": 4,
  "vscode": {
   "interpreter": {
    "hash": "31f2aee4e71d21fbe5cf8b01ff0e069b9275f58929596ceb00d14d90e3e16cd6"
   }
  }
 },
 "nbformat": 4,
 "nbformat_minor": 2
}
